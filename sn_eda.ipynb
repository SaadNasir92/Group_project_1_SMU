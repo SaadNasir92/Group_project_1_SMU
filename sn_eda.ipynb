{
 "cells": [
  {
   "cell_type": "markdown",
   "metadata": {},
   "source": [
    "## Our Goals\n",
    "\n",
    "Exploring a historical dataset of loan disbursements, filled with borrower financial demographics and specific loan details, our aim is to perform a thorough analysis of credit profile behaviors. This analysis will help us identify trends, pinpoint areas of oversight, and devise potential strategies for improvement in the following areas:\n",
    "\n",
    "- Increasing customer retention rates\n",
    "- Reducing the percentage of loan defaults\n",
    "- Refining marketing strategies\n",
    "\n",
    " As we dive into the data exploration phase, we anticipate uncovering additional trends and insights. Should these initial observations prove statistically and practically significant we will elaborate further opportunities for business improvement during the discovery phase.\n",
    "\n"
   ]
  },
  {
   "cell_type": "markdown",
   "metadata": {},
   "source": []
  }
 ],
 "metadata": {
  "kernelspec": {
   "display_name": "base",
   "language": "python",
   "name": "python3"
  },
  "language_info": {
   "name": "python",
   "version": "3.11.7"
  }
 },
 "nbformat": 4,
 "nbformat_minor": 2
}
