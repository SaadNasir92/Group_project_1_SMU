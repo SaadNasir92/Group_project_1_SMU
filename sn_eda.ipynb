{
 "cells": [
  {
   "cell_type": "markdown",
   "metadata": {},
   "source": [
    "## Our Goals\n",
    "\n",
    "Exploring a historical dataset of loan disbursements, filled with borrower financial demographics and specific loan details, our aim is to perform a thorough analysis of credit profile behaviors. This analysis will help us identify trends, pinpoint areas of oversight, and devise potential strategies for improvement in the following areas:\n",
    "\n",
    "- Increasing customer retention rates\n",
    "- Reducing the percentage of loan defaults\n",
    "- Refining marketing strategies\n",
    "\n",
    " As we dive into the data exploration phase, we anticipate uncovering additional trends and insights. Should these initial observations prove statistically and practically significant we will elaborate further opportunities for business improvement during the discovery phase.\n",
    "\n"
   ]
  },
  {
   "cell_type": "markdown",
   "metadata": {},
   "source": []
  },
  {
   "cell_type": "code",
   "execution_count": null,
   "metadata": {},
   "outputs": [],
   "source": []
  },
  {
   "cell_type": "code",
   "execution_count": null,
   "metadata": {},
   "outputs": [],
   "source": []
  },
  {
   "cell_type": "code",
   "execution_count": null,
   "metadata": {},
   "outputs": [],
   "source": []
  },
  {
   "cell_type": "code",
   "execution_count": null,
   "metadata": {},
   "outputs": [],
   "source": []
  },
  {
   "cell_type": "code",
   "execution_count": null,
   "metadata": {},
   "outputs": [],
   "source": [
    "# # Create a contingency table of loan status and annual income level\n",
    "# contingency_table = pd.crosstab(raw_df['annual_inc_lvl'], raw_df['loan_status'])\n",
    "\n",
    "# # Perform the chi-square test\n",
    "# chi_result = chi2_contingency(contingency_table)\n",
    "\n",
    "# print('Chi-square statistic:', chi_result.statistic)\n",
    "# print('P-value:', chi_result.pvalue)\n",
    "# contingency_table"
   ]
  },
  {
   "cell_type": "code",
   "execution_count": null,
   "metadata": {},
   "outputs": [],
   "source": [
    "# contig_perc = contingency_table.div(contingency_table.sum(axis=1), axis=0)\n",
    "# plt.figure(figsize=(10, 8))\n",
    "# sns.heatmap(contig_perc, annot=True, fmt=\".2%\", cmap=\"coolwarm\", linewidths=.5)\n",
    "# plt.title('Proportional Heatmap of Loan Status by Income Level')\n",
    "# plt.ylabel('Loan Status')\n",
    "# plt.xlabel('Annual Income Level')\n",
    "# plt.show()\n",
    "\n",
    "# contig_perc = contingency_table.div(contingency_table.sum(axis=1), axis=0)\n",
    "# sns.heatmap(contig_perc, annot=True, fmt=\".2%\", cmap=\"coolwarm\", linewidths=.5)\n",
    "# plt.title('Proportional Heatmap of Loan Status by Income Level')\n",
    "# plt.ylabel('Annual Income Level')\n",
    "# plt.xlabel('Loan Status')\n",
    "# plt.show()\n",
    "\n",
    "# Need to calc cramers v to prove practical significance. \n",
    "# Cramer's V = 0.05 might be communicated as \"There is a very weak association between the two variables. Despite the statistical significance, the impact of one variable on the other in practical terms is minimal.\"\n",
    "# Cramer's V = 0.70 could be communicated as \"There is a strong association between the variables, suggesting that changes in one are closely linked to changes in the other, which is important for predictive modeling and strategic decision-making.\""
   ]
  },
  {
   "cell_type": "code",
   "execution_count": null,
   "metadata": {},
   "outputs": [],
   "source": []
  },
  {
   "cell_type": "code",
   "execution_count": null,
   "metadata": {},
   "outputs": [],
   "source": []
  }
 ],
 "metadata": {
  "kernelspec": {
   "display_name": "base",
   "language": "python",
   "name": "python3"
  },
  "language_info": {
   "name": "python",
   "version": "3.11.7"
  }
 },
 "nbformat": 4,
 "nbformat_minor": 2
}
