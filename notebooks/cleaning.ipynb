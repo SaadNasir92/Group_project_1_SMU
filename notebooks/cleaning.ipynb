{
 "cells": [
  {
   "cell_type": "markdown",
   "metadata": {},
   "source": [
    "# Lending Club Analysis - Cleaning/Understanding the Data"
   ]
  },
  {
   "cell_type": "markdown",
   "metadata": {},
   "source": [
    "# Questions to explore:\n",
    "**Research Questions:**\n",
    "- What are the demographic characteristics of borrowers in the Lending Club dataset?\n",
    "- How do loan purposes vary among different borrower groups?\n",
    "- Are there any trends or patterns in borrower behavior over time or across different regions?\n",
    "- Can we develop a predictive model to assess borrower risk based on demographic and credit profile attributes?\n",
    "- Can investors use borrower characteristics to optimize their investment strategies on the Lending Club platform?"
   ]
  },
  {
   "cell_type": "code",
   "execution_count": 1,
   "metadata": {},
   "outputs": [],
   "source": [
    "%%capture \n",
    "# Hide the output with code above.\n",
    "# Change the current working directory to the Project folder (with code below) instead of the notebook folder so that we can import custom utility modules from the src directory.\n",
    "%cd .."
   ]
  },
  {
   "cell_type": "code",
   "execution_count": 2,
   "metadata": {},
   "outputs": [],
   "source": [
    "# Imports\n",
    "import pandas as pd\n",
    "import seaborn as sns\n",
    "import matplotlib.pyplot as plt\n",
    "# custom utility module imports\n",
    "from src.util_functions import get_feature_description"
   ]
  },
  {
   "cell_type": "code",
   "execution_count": 3,
   "metadata": {},
   "outputs": [],
   "source": [
    "# Read the dataframe\n",
    "raw_df = pd.read_csv('datasets/lending_club_loan_two.csv')\n"
   ]
  },
  {
   "cell_type": "code",
   "execution_count": 4,
   "metadata": {},
   "outputs": [
    {
     "name": "stdout",
     "output_type": "stream",
     "text": [
      "                                                                                                                          Description\n",
      "7  Employment length in years. Possible values are between 0 and 10 where 0 means less than one year and 10 means ten or more years. \n"
     ]
    }
   ],
   "source": [
    "# Testing custom function / leaving an example. This function is designed to give us our different feature descriptions.\n",
    "get_feature_description('emp_length')"
   ]
  }
 ],
 "metadata": {
  "kernelspec": {
   "display_name": "base",
   "language": "python",
   "name": "python3"
  },
  "language_info": {
   "codemirror_mode": {
    "name": "ipython",
    "version": 3
   },
   "file_extension": ".py",
   "mimetype": "text/x-python",
   "name": "python",
   "nbconvert_exporter": "python",
   "pygments_lexer": "ipython3",
   "version": "3.11.7"
  }
 },
 "nbformat": 4,
 "nbformat_minor": 2
}
